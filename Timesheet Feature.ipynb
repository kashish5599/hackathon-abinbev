{
 "cells": [
  {
   "cell_type": "code",
   "execution_count": 1,
   "metadata": {},
   "outputs": [],
   "source": [
    "import requests\n",
    "import os\n",
    "import json\n",
    "import pandas as pd"
   ]
  },
  {
   "cell_type": "code",
   "execution_count": 2,
   "metadata": {},
   "outputs": [],
   "source": [
    "key = '31d865f824a8c223a558ef393fe59a21'"
   ]
  },
  {
   "cell_type": "code",
   "execution_count": 6,
   "metadata": {},
   "outputs": [],
   "source": [
    "#authtoken = key\n",
    "#assert authtoken\n",
    "\n",
    "#face_api_url = 'https://people.zoho.com/people/api/employee/records'\n",
    "face_api_url='http://people.zoho.in/people/api/timetracker/gettimetrackersettings'\n",
    "\n",
    "#headers = {'authtoken': key}\n",
    "\n",
    "#params = {'authtoken': key,'inputType':'json','inputData':{'Name':'Mukur', 'Second':'Gupta','ID':'20'}}\n",
    "params = {'authtoken': key}"
   ]
  },
  {
   "cell_type": "code",
   "execution_count": 7,
   "metadata": {},
   "outputs": [],
   "source": [
    "response = requests.post(face_api_url, params=params)\n",
    "response.text"
   ]
  },
  {
   "cell_type": "code",
   "execution_count": 70,
   "metadata": {},
   "outputs": [],
   "source": [
    "t='<Request><Record><field name=\"EmployeeID\">\"11\"</field><field name=\"FirstName\">\"Test\"</field><field name=\"LastName\">\"Test\"</field><field name=\"EmailID\">\"kg@test.com\"</field></Record></Request>'"
   ]
  },
  {
   "cell_type": "code",
   "execution_count": 71,
   "metadata": {},
   "outputs": [],
   "source": [
    "def add_employee(eid, fname,lname,email):\n",
    "    data={'EmployeeID':eid,'FirstName':fname,'LastName':lname,'EmailID':email}\n",
    "    params={'authtoken': key,'xmlData':t}\n",
    "    \n",
    "    url='https://people.zoho.in/people/api/employee/records'\n",
    "    #url='https://people.zoho.in/people/api/forms/<inputType>/<formLinkName>/insertRecord'\n",
    "    response = requests.post(url, params=params)\n",
    "    return response"
   ]
  },
  {
   "cell_type": "code",
   "execution_count": 72,
   "metadata": {},
   "outputs": [],
   "source": [
    "res=add_employee('11', 'Kashish','Goyal','kg@gmail.com')"
   ]
  },
  {
   "cell_type": "code",
   "execution_count": 73,
   "metadata": {},
   "outputs": [
    {
     "data": {
      "text/plain": [
       "'{\"code\":7053,\"message\":{\"EmailID\":\"Enter a valid email address for  Email ID \"},\"errorcode\":7053,\"Response status\":2}\\n'"
      ]
     },
     "execution_count": 73,
     "metadata": {},
     "output_type": "execute_result"
    }
   ],
   "source": [
    "res.text"
   ]
  },
  {
   "cell_type": "code",
   "execution_count": 76,
   "metadata": {},
   "outputs": [],
   "source": [
    "t=\"https://people.zoho.in/people/api/employee/records?authtoken=31d865f824a8c223a558ef393fe59a21 &xmlData=<Request><Record><field name='EmployeeID'>011</field><field name='FirstName'>steves</field><field name='LastName'>V</field><field name='EmailID'>steves@domain.com</field><field name='Marital_status'>Married</field></Record></Request>\""
   ]
  },
  {
   "cell_type": "code",
   "execution_count": 77,
   "metadata": {},
   "outputs": [],
   "source": [
    "response = requests.post(t)"
   ]
  },
  {
   "cell_type": "code",
   "execution_count": 78,
   "metadata": {},
   "outputs": [
    {
     "data": {
      "text/plain": [
       "'{\"response\":{\"message\":\"Error occurred\",\"uri\":\"/api/employee/records\",\"errors\":{\"code\":7205,\"message\":\"Input format does not match \"},\"status\":1}}\\n'"
      ]
     },
     "execution_count": 78,
     "metadata": {},
     "output_type": "execute_result"
    }
   ],
   "source": [
    "response.text"
   ]
  },
  {
   "cell_type": "code",
   "execution_count": 87,
   "metadata": {},
   "outputs": [],
   "source": [
    "res=requests.post('https://people.zoho.in/people/api/forms/P_EmployeeView/records?authtoken=31d865f824a8c223a558ef393fe59a21')"
   ]
  },
  {
   "cell_type": "code",
   "execution_count": 96,
   "metadata": {},
   "outputs": [
    {
     "data": {
      "text/html": [
       "<div>\n",
       "<style scoped>\n",
       "    .dataframe tbody tr th:only-of-type {\n",
       "        vertical-align: middle;\n",
       "    }\n",
       "\n",
       "    .dataframe tbody tr th {\n",
       "        vertical-align: top;\n",
       "    }\n",
       "\n",
       "    .dataframe thead th {\n",
       "        text-align: right;\n",
       "    }\n",
       "</style>\n",
       "<table border=\"1\" class=\"dataframe\">\n",
       "  <thead>\n",
       "    <tr style=\"text-align: right;\">\n",
       "      <th></th>\n",
       "      <th>First Name</th>\n",
       "      <th>Email ID</th>\n",
       "      <th>Last Name</th>\n",
       "    </tr>\n",
       "  </thead>\n",
       "  <tbody>\n",
       "    <tr>\n",
       "      <th>0</th>\n",
       "      <td>Vedant</td>\n",
       "      <td>vs@gmail.com</td>\n",
       "      <td>Saraswat</td>\n",
       "    </tr>\n",
       "    <tr>\n",
       "      <th>1</th>\n",
       "      <td>Kashish</td>\n",
       "      <td>kg@gmail.com</td>\n",
       "      <td>Goyal</td>\n",
       "    </tr>\n",
       "    <tr>\n",
       "      <th>2</th>\n",
       "      <td>Mukur Gupta</td>\n",
       "      <td>iismukur@gmail.com</td>\n",
       "      <td></td>\n",
       "    </tr>\n",
       "  </tbody>\n",
       "</table>\n",
       "</div>"
      ],
      "text/plain": [
       "    First Name            Email ID Last Name\n",
       "0       Vedant        vs@gmail.com  Saraswat\n",
       "1      Kashish        kg@gmail.com     Goyal\n",
       "2  Mukur Gupta  iismukur@gmail.com          "
      ]
     },
     "execution_count": 96,
     "metadata": {},
     "output_type": "execute_result"
    }
   ],
   "source": [
    "pd.read_json(res.text)[['First Name','Email ID','Last Name']]"
   ]
  },
  {
   "cell_type": "code",
   "execution_count": 21,
   "metadata": {},
   "outputs": [],
   "source": [
    "data={\"Job_Name\":\"Deliver Package\"}"
   ]
  },
  {
   "cell_type": "code",
   "execution_count": 22,
   "metadata": {},
   "outputs": [],
   "source": [
    "url=\"https://people.zoho.in/people/api/forms\"\n",
    "params={'authtoken': key,'formLinkName':\"P_TimesheetJob\",\"inputType\":\"json\",\"inputData\":data}\n",
    "response = requests.post(url, params=params)"
   ]
  },
  {
   "cell_type": "code",
   "execution_count": 187,
   "metadata": {},
   "outputs": [],
   "source": [
    "t='https://people.zoho.in/people/api/forms/json/P_TimesheetJob/insertRecord?authtoken=31d865f824a8c223a558ef393fe59a21&inputData={\"Job_Name\":\"Performance Analysis-3\",\"StartDate\":\"01-Apr-2019\",\"EndDate\":\"25-Apr-2019\",\"Assignees\":\"33259000000170120\",\"AssigneeHours\":\"20\",\"AssigneeRate\":\"100\"}'"
   ]
  },
  {
   "cell_type": "code",
   "execution_count": null,
   "metadata": {},
   "outputs": [],
   "source": []
  },
  {
   "cell_type": "code",
   "execution_count": 218,
   "metadata": {},
   "outputs": [],
   "source": [
    "t='https://people.zoho.in/people/api/timetracker/getjobs?authtoken=31d865f824a8c223a558ef393fe59a21&assignedTo=1102'"
   ]
  },
  {
   "cell_type": "code",
   "execution_count": 219,
   "metadata": {},
   "outputs": [],
   "source": [
    "q=requests.post(t).text"
   ]
  },
  {
   "cell_type": "code",
   "execution_count": 230,
   "metadata": {},
   "outputs": [],
   "source": [
    "t='https://people.zoho.in/people/api/timetracker/createtimesheet?authtoken=31d865f824a8c223a558ef393fe59a21&user=kg@gmail.com&timesheetName=Daily_Timesheet&dateFormat=dd-MM-yyyy&fromDate=01-10-2019&toDate=30-10-2019'"
   ]
  },
  {
   "cell_type": "code",
   "execution_count": 231,
   "metadata": {},
   "outputs": [
    {
     "data": {
      "text/plain": [
       "'{\"response\":{\"result\":{\"timesheetId\":[\"33259000000174031\"]},\"message\":\"Data added successfully\",\"uri\":\"/api/timetracker/createtimesheet\",\"status\":0}}'"
      ]
     },
     "execution_count": 231,
     "metadata": {},
     "output_type": "execute_result"
    }
   ],
   "source": [
    "requests.post(t).text"
   ]
  },
  {
   "cell_type": "code",
   "execution_count": 236,
   "metadata": {},
   "outputs": [],
   "source": [
    "t='https://people.zoho.in/people/api/timetracker/gettimesheet?authtoken=31d865f824a8c223a558ef393fe59a21&user=kg@gmail.com&dateFormat=dd-MMM-yyyy&fromDate=01-Oct-2019&toDate=10-Oct-2019&sIndex=0&limit=1'"
   ]
  },
  {
   "cell_type": "code",
   "execution_count": 237,
   "metadata": {},
   "outputs": [
    {
     "data": {
      "text/plain": [
       "'{\"response\":{\"result\":[],\"message\":\"Data fetched successfully\",\"uri\":\"/api/timetracker/gettimesheet\",\"status\":0}}'"
      ]
     },
     "execution_count": 237,
     "metadata": {},
     "output_type": "execute_result"
    }
   ],
   "source": [
    "requests.post(t).text"
   ]
  },
  {
   "cell_type": "code",
   "execution_count": 262,
   "metadata": {},
   "outputs": [],
   "source": [
    "t=\"https://people.zoho.in/people/api/employee/records?authtoken=31d865f824a8c223a558ef393fe59a21&xmlData=<Request><Record><field name='EmployeeID'>1106</field><field name='FirstName'>stefan</field><field name='LastName'>V</field><field name='EmailID'>stefan@domain.com</field><field name='Marital_status'>Married</field></Record></Request>\""
   ]
  },
  {
   "cell_type": "code",
   "execution_count": 263,
   "metadata": {},
   "outputs": [
    {
     "data": {
      "text/plain": [
       "'{\"Response\":1,\"pkId\":\"33259000000174140\",\"message\":\"Successfully Added\"}\\n'"
      ]
     },
     "execution_count": 263,
     "metadata": {},
     "output_type": "execute_result"
    }
   ],
   "source": [
    "requests.post(t).text"
   ]
  },
  {
   "cell_type": "code",
   "execution_count": 252,
   "metadata": {},
   "outputs": [],
   "source": [
    "t=\"https://people.zoho.in/people/api/employee/records?authtoken=31d865f824a8c223a558ef393fe59a21&xmlData=<Request><Record><field name='EmployeeID'>1105</field><field name='FirstName'>Bills</field><field name='LastName'>Gate</field><field name='EmailID'>bg@gmail.com</field></Record></Request>\""
   ]
  },
  {
   "cell_type": "code",
   "execution_count": null,
   "metadata": {},
   "outputs": [],
   "source": []
  }
 ],
 "metadata": {
  "kernelspec": {
   "display_name": "Python 3",
   "language": "python",
   "name": "python3"
  },
  "language_info": {
   "codemirror_mode": {
    "name": "ipython",
    "version": 3
   },
   "file_extension": ".py",
   "mimetype": "text/x-python",
   "name": "python",
   "nbconvert_exporter": "python",
   "pygments_lexer": "ipython3",
   "version": "3.6.5"
  }
 },
 "nbformat": 4,
 "nbformat_minor": 2
}
